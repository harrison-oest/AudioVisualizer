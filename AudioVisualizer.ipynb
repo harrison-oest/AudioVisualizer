{
 "cells": [
  {
   "cell_type": "code",
   "execution_count": 3,
   "metadata": {},
   "outputs": [],
   "source": [
    "#import libs\n",
    "import matplotlib.pyplot as plt\n",
    "import numpy as np\n",
    "import pyaudio\n",
    "import struct\n",
    "import os\n",
    "from scipy.fftpack import fft\n",
    "from tkinter import TclError\n",
    "\n",
    "\n",
    "%matplotlib tk \n",
    "#opens up new window for live graphing\n",
    "\n",
    "CHUNK = 2048 #size of each audio packet\n",
    "FORMAT = pyaudio.paInt16 #bit size of audio packet input\n",
    "CHANNELS = 1 #mono channel microphone\n",
    "RATE = 44100 #44.1 kHz recording freq"
   ]
  },
  {
   "cell_type": "code",
   "execution_count": 6,
   "metadata": {},
   "outputs": [
    {
     "name": "stdout",
     "output_type": "stream",
     "text": [
      "Goodbye!\n"
     ]
    }
   ],
   "source": [
    "#INITIALIZE PYAUDIO STREAM\n",
    "PAud = pyaudio.PyAudio()\n",
    "stream = PAud.open(\n",
    "    format=FORMAT,\n",
    "    channels=CHANNELS,\n",
    "    rate=RATE,\n",
    "    input=True,\n",
    "    output=True,\n",
    "    frames_per_buffer=CHUNK\n",
    ")\n",
    "\n",
    "#SET UP PLOTS\n",
    "fig, (ax, ay) = plt.subplots(2, figsize=(15,8))\n",
    "\n",
    "#X-Axes\n",
    "Audx = np.arange(0, 2*CHUNK, 2)\n",
    "FFTx = np.linspace(0, RATE, CHUNK)\n",
    "\n",
    "#Line objs\n",
    "Audline, = ax.plot(Audx, np.random.rand(CHUNK), '-')\n",
    "FFTline, = ay.semilogx(FFTx, np.random.rand(CHUNK), '-')\n",
    "\n",
    "#make the plot look nice\n",
    "ax.set_title('Recorded Audio')\n",
    "ax.set_ylabel('Magnitude')\n",
    "ax.set_ylim(0,255)\n",
    "ax.set_xlim(0,2*CHUNK)\n",
    "plt.setp(ax, xticks=[0, CHUNK, 2*CHUNK], yticks=[0,128,255])\n",
    "ay.set_xlim(20, RATE/2)\n",
    "\n",
    "\n",
    "#LOOP FOR AUDIO\n",
    "#THE 'DO STUFF' PART OF THE CODE\n",
    "while True:\n",
    "    #Gather data and unpack into integers\n",
    "    data = stream.read(CHUNK)\n",
    "    Idata=struct.unpack(str(2*CHUNK) + 'B', data)\n",
    "        \n",
    "    #place into array and offset accordingly for smooth sound wave\n",
    "    Ndata = np.array(Idata, dtype='b')[::2] + 128\n",
    "    Audline.set_ydata(Ndata)\n",
    "        \n",
    "    #do the FFT magic\n",
    "    FFTy = fft(Ndata)\n",
    "    FFTline.set_ydata(np.abs(FFTy[0:CHUNK]) * 4 / (256 * CHUNK))\n",
    "        \n",
    "    try:\n",
    "        fig.canvas.draw()\n",
    "        fig.canvas.flush_events()\n",
    "            \n",
    "    except TclError:\n",
    "        print ('Goodbye!')\n",
    "        break"
   ]
  },
  {
   "cell_type": "code",
   "execution_count": null,
   "metadata": {},
   "outputs": [],
   "source": []
  }
 ],
 "metadata": {
  "kernelspec": {
   "display_name": "Python 3",
   "language": "python",
   "name": "python3"
  },
  "language_info": {
   "codemirror_mode": {
    "name": "ipython",
    "version": 3
   },
   "file_extension": ".py",
   "mimetype": "text/x-python",
   "name": "python",
   "nbconvert_exporter": "python",
   "pygments_lexer": "ipython3",
   "version": "3.7.6"
  }
 },
 "nbformat": 4,
 "nbformat_minor": 4
}
