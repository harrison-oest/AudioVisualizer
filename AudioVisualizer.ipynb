{
 "cells": [
  {
   "cell_type": "markdown",
   "metadata": {},
   "source": [
    "<center><h1>Audio Visualizer</h1></center>\n",
    "\n",
    "<center><h4>CSCI-250: Building a Sensor System</h4></center>\n",
    "<center><h4>Harrison Oest and JT Millar</h4></center>"
   ]
  },
  {
   "cell_type": "code",
   "execution_count": null,
   "metadata": {},
   "outputs": [],
   "source": [
    "# All imports and included files\n",
    "\n",
    "from apa102_pi.driver import apa102_pi\n",
    "import RPi.GPIO as GPIO\n",
    "import numpy as np\n",
    "import time\n",
    "import math\n",
    "import matplotlib.pyplot as plt"
   ]
  },
  {
   "cell_type": "code",
   "execution_count": null,
   "metadata": {},
   "outputs": [],
   "source": [
    "num_led = 60 # Need to update this to the correct number of LEDs\n",
    "\n",
    "strip = apa102.APA102(num_led, order='rgb') # Initialize the strip\n",
    "\n",
    "strip.clear_strip() # Clear the strip just in case\n",
    "\n",
    "strip.set_pixel_rgb(0,  0xFF0000)  # Red\n",
    "strip.set_pixel_rgb(1, 0x00FF00)  # Green\n",
    "strip.set_pixel_rgb(2, 0x00FF00)  # Green\n",
    "strip.set_pixel_rgb(3, 0x0000FF)  # Blue\n",
    "strip.set_pixel_rgb(4, 0x0000FF)  # Blue\n",
    "strip.set_pixel_rgb(5, 0x0000FF)  # Blue\n",
    "\n",
    "strip.show()\n",
    "\n",
    "strip.cleanup()"
   ]
  }
 ],
 "metadata": {
  "kernelspec": {
   "display_name": "Python 3",
   "language": "python",
   "name": "python3"
  },
  "language_info": {
   "codemirror_mode": {
    "name": "ipython",
    "version": 3
   },
   "file_extension": ".py",
   "mimetype": "text/x-python",
   "name": "python",
   "nbconvert_exporter": "python",
   "pygments_lexer": "ipython3",
   "version": "3.7.4"
  }
 },
 "nbformat": 4,
 "nbformat_minor": 4
}
