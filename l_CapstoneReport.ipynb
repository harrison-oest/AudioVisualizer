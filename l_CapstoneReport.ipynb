{
 "cells": [
  {
   "cell_type": "markdown",
   "metadata": {},
   "source": [
    "<div style=\"float: left; width: 25%;\">\n",
    "<ul>\n",
    "<img src=\"http://www.minesnewsroom.com/sites/default/files/wysiwyg-editor/photos/CO-Mines-logo-stacked-4C-200x235w.png\" style=\"height: 115px;\">\n",
    "</ul>\n",
    "</div>\n",
    "\n",
    "<div style=\"float: right; width: 75%;\">\n",
    "<ul>\n",
    "    <h1> CSCI 250 - Building a Sensor System </h1>\n",
    "    </span>\n",
    "</ul>\n",
    "</div>"
   ]
  },
  {
   "cell_type": "markdown",
   "metadata": {},
   "source": [
    "# Title\n",
    "\n",
    "Insert one or more pictures of your project. \n",
    "You can do this by clicking \"Edit\" in the menu bar, then \"Insert Image\""
   ]
  },
  {
   "cell_type": "markdown",
   "metadata": {},
   "source": [
    "# Group \n",
    "\n",
    "List all members and indicate specific project responsibilities:\n",
    "\n",
    "* JT Millar - Data Analysis, Microphone data collection and processing, software framework, assembly of hardware\n",
    "* Harrison Oest - Construction and assembly of LEDs and other hardware, Soldering, software framework"
   ]
  },
  {
   "cell_type": "markdown",
   "metadata": {},
   "source": [
    "# Description\n",
    "\n",
    "Our project is a real-time audio visualizer that receives audio data in order to display frequency amplitudes on a constructed LED matrix. It performs Fourier analysis to extract waveform frequencies and displays audible frequency ranges scaled to their individual amplitudes."
   ]
  },
  {
   "cell_type": "markdown",
   "metadata": {},
   "source": [
    "# Hardware\n",
    "\n",
    "* Raspberry Pi Model 3B+\n",
    "* GPIO Shield\n",
    "* Breadboard\n",
    "* Jumper Wires\n",
    "\n",
    "All of the above are required pieces of hardware for any system to function.\n",
    "\n",
    "* 5V, 20A DC PSU\n",
    "* APA 102C RGB LED Strips (4)\n",
    "\n",
    "The above components are part of the visuals of our project, with the power supply providing ample power to the LEDs, while the LEDs are addressable allowing us to make a customizable LED matrix\n",
    "\n",
    "* USB Microphone - Collects audio data in real time for analysis"
   ]
  },
  {
   "cell_type": "markdown",
   "metadata": {},
   "source": [
    "# Operation\n",
    "\n",
    "The project itself is self-operational. Once the program is started and the hardware is connected, all that is required is audio, whether that be from a voice or song. As long as the hardward is set up correctly, no interaction is required between the user and the project"
   ]
  },
  {
   "cell_type": "markdown",
   "metadata": {},
   "source": [
    "# Data\n",
    "\n",
    "As stated in the capstone guidelines notebook, your project must have 4 data components:\n",
    "\n",
    "1. Collect data: We collected 1 primary data type, audio waveform. This was done through the use of a USB microphone.\n",
    "\n",
    "\n",
    "2. Process data: The primary data being processed is the audio waveform. It is collected via the microphone in pure 16bit audio form at a rate of 44100 Hz. The waveform is then unpacked into integers and placed into a wrapped array which then displays a visual audio waveform. We then perform a fourier transform to extract waveform frequencies and amplitudes. Finally, the frequency array is separated into 16 'bins' of frequency ranges which were determined based on typical music frequency ranges, with more bins concentrated around the midrange frequencies. We then summed the largest 3 values of each bin and log scaled them to make the true frequencies and amplitudes easily visible since audio amplitude also follows logarithmic scaling. This 16-value array is what controls the heights of each individual bar in the LED matrix. All these steps are run over a constant loop that performed at roughly 10-15 FPS.\n",
    "\n",
    "\n",
    "3. Display data: We have 2 primary forms of data display, with the LEDs being the primary display, while the onscreen display is not required. The LED matrix displays the amplitudes of each frequency 'bin' according to the process above, at different colors based on temperature of the room. The onscreen display consists of 3 line plots which update in real time based on recorded data. The top graph displays the audio waveform, with 4096 data points collected per cycle. The middle graph displays the Fourier transform analysis, with a range between 20 and 22050 Hz. Finally, the bottom graph displays the 16 binned values, with each value corresponding to a specific frequency range as documented in the code; this graph is also replicated in a much more visually appealing way with the LED matrix, and was the only output for our video demonstration due to the processing constraints of the Pi.\n",
    "\n",
    "\n",
    "4. Interpret data: The interpretation/analysis of the data primarily comes in the final graph. After the waveform has undergone a frequency analysis transform, and then placed into their respective bins, the data is finally log scaled and placed into a 16 value array which determines the height of the bars.\n"
   ]
  },
  {
   "cell_type": "markdown",
   "metadata": {},
   "source": [
    "# Wiring\n",
    "\n",
    "Include a a description or schematic of how all hardware elements are connected to your RPi. Be specific about what is connected where. There are several websites that allow you to create circuit schematics for free, such as [this one](https://www.circuit-diagram.org/editor/)."
   ]
  },
  {
   "cell_type": "markdown",
   "metadata": {},
   "source": [
    "# Code\n",
    "\n",
    "Include a description of the code that makes your project run here at a high level (submit actual code in a separation submission). Add explanations of what different portions of your code do.\n",
    "\n",
    "- Recall you must use the concepts we have learned in class (e.g., good variable names, object-oriented design (classes, objects, and functions), lists/arrays, conditionals and control structures (if and loops), plotting and visualization). \n",
    "\n",
    "- Your code should be readable and understandable by someone that is not in your group - please use proper comments and documentation throughout your code.\n",
    "\n",
    "Walking through the code step-by-step:\n",
    "\n",
    "\n",
    "1. Initially, the PyAudio object is initialized as PAud with specific inputs to determine bitrate, input channel, sample size, and collection rate.\n",
    "\n",
    "\n",
    "2. 3 plots are established and given details/parameters, with defined x-axes based on their specific input sizes, 4096 for the waveform, 22050 for the frequency range, and 16 for the number of bins. Line objects are then established with the x-axes for their 1st dimension, and a randomly generated y-axis as that will be changed later according to incoming data.\n",
    "\n",
    "\n",
    "3. We then get to the main loop. First, the data is read from the microphone and unpacked from bits into integers, which are then placed into an array which slice the array and provide an offset to easily visualize the waveform. This data is set as the y-data for the Audio Waveform line object.\n",
    "\n",
    "\n",
    "4. The waveform data is then run through our FFT (Fourier Transform) function, which extracts amplitudes and frequencies present in the waveform. This data is then set as the y-data for the FFT line object.\n",
    "\n",
    "5. Frequency bins are created which create definite frequency ranges for each of the 16 bins, then the highest 3 values in each bin are summed and log-scaled, and then placed into a new 16 value array. These 16 values are set as the y-data for the Bin line object.\n",
    "\n",
    "6. Finally, the draw function is called from our figure object to redraw the graphs, which is called roughly 15 times/second giving us an impressive 15 FPS. There is also a catch for the user pressing the exit button or terminating the program to stop from calling the update function and clearing everything smoothly."
   ]
  },
  {
   "cell_type": "markdown",
   "metadata": {},
   "source": [
    "# Credits\n",
    "\n",
    "ALL LIBRARIES INSTALLED USING PIP (install ID in parentheses, installed using \"pip install ____\")\n",
    "* Matplotlib 3.2.1 (matplotlib)\n",
    "* PyAudio 0.2.11 (pyaudio) Used to record audio waveforms\n",
    "* NumPy 1.17.4 (numpy)\n",
    "* SciPy 1.3.3 (SciPy) Used for Fourier Transform"
   ]
  },
  {
   "cell_type": "code",
   "execution_count": null,
   "metadata": {},
   "outputs": [],
   "source": []
  }
 ],
 "metadata": {
  "anaconda-cloud": {},
  "kernelspec": {
   "display_name": "Python 3",
   "language": "python",
   "name": "python3"
  },
  "language_info": {
   "codemirror_mode": {
    "name": "ipython",
    "version": 3
   },
   "file_extension": ".py",
   "mimetype": "text/x-python",
   "name": "python",
   "nbconvert_exporter": "python",
   "pygments_lexer": "ipython3",
   "version": "3.7.6"
  },
  "varInspector": {
   "cols": {
    "lenName": 16,
    "lenType": 16,
    "lenVar": 40
   },
   "kernels_config": {
    "python": {
     "delete_cmd_postfix": "",
     "delete_cmd_prefix": "del ",
     "library": "var_list.py",
     "varRefreshCmd": "print(var_dic_list())"
    },
    "r": {
     "delete_cmd_postfix": ") ",
     "delete_cmd_prefix": "rm(",
     "library": "var_list.r",
     "varRefreshCmd": "cat(var_dic_list()) "
    }
   },
   "types_to_exclude": [
    "module",
    "function",
    "builtin_function_or_method",
    "instance",
    "_Feature"
   ],
   "window_display": false
  }
 },
 "nbformat": 4,
 "nbformat_minor": 2
}
